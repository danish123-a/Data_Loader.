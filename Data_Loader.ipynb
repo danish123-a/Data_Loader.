{
  "nbformat": 4,
  "nbformat_minor": 0,
  "metadata": {
    "colab": {
      "provenance": [],
      "authorship_tag": "ABX9TyM0IA6mFnT6qyKPema6PDII",
      "include_colab_link": true
    },
    "kernelspec": {
      "name": "python3",
      "display_name": "Python 3"
    },
    "language_info": {
      "name": "python"
    }
  },
  "cells": [
    {
      "cell_type": "markdown",
      "metadata": {
        "id": "view-in-github",
        "colab_type": "text"
      },
      "source": [
        "<a href=\"https://colab.research.google.com/github/danish123-a/Data_Loader./blob/main/Data_Loader.ipynb\" target=\"_parent\"><img src=\"https://colab.research.google.com/assets/colab-badge.svg\" alt=\"Open In Colab\"/></a>"
      ]
    },
    {
      "cell_type": "code",
      "execution_count": 1,
      "metadata": {
        "id": "BpzajiGOuGKN"
      },
      "outputs": [],
      "source": [
        "import pandas as pd"
      ]
    },
    {
      "cell_type": "code",
      "source": [
        "from sklearn.datasets import make_classification"
      ],
      "metadata": {
        "id": "wC_UaxrluKP5"
      },
      "execution_count": 2,
      "outputs": []
    },
    {
      "cell_type": "code",
      "source": [
        "x,y=make_classification(\n",
        "                         n_samples=10,\n",
        "                         n_classes=2,\n",
        "                         n_informative=2,\n",
        "                         n_features=2,\n",
        "                         n_redundant=0,\n",
        "                         random_state=42\n",
        ")"
      ],
      "metadata": {
        "id": "cb1CJfY2ucCL"
      },
      "execution_count": 8,
      "outputs": []
    },
    {
      "cell_type": "code",
      "source": [
        "x"
      ],
      "metadata": {
        "colab": {
          "base_uri": "https://localhost:8080/"
        },
        "id": "T8cGCN_5u-J2",
        "outputId": "a4ed85a3-dd98-4cbb-9ba7-d1a1de21fb7f"
      },
      "execution_count": 9,
      "outputs": [
        {
          "output_type": "execute_result",
          "data": {
            "text/plain": [
              "array([[ 1.06833894, -0.97007347],\n",
              "       [-1.14021544, -0.83879234],\n",
              "       [-2.8953973 ,  1.97686236],\n",
              "       [-0.72063436, -0.96059253],\n",
              "       [-1.96287438, -0.99225135],\n",
              "       [-0.9382051 , -0.54304815],\n",
              "       [ 1.72725924, -1.18582677],\n",
              "       [ 1.77736657,  1.51157598],\n",
              "       [ 1.89969252,  0.83444483],\n",
              "       [-0.58723065, -1.97171753]])"
            ]
          },
          "metadata": {},
          "execution_count": 9
        }
      ]
    },
    {
      "cell_type": "code",
      "source": [
        "y"
      ],
      "metadata": {
        "colab": {
          "base_uri": "https://localhost:8080/"
        },
        "id": "5KLcscyZvJzm",
        "outputId": "99663778-239f-4693-fa26-f7c5c6665613"
      },
      "execution_count": 10,
      "outputs": [
        {
          "output_type": "execute_result",
          "data": {
            "text/plain": [
              "array([1, 0, 0, 0, 0, 1, 1, 1, 1, 0])"
            ]
          },
          "metadata": {},
          "execution_count": 10
        }
      ]
    },
    {
      "cell_type": "code",
      "source": [
        "import torch as t"
      ],
      "metadata": {
        "id": "H205tq0UvMAg"
      },
      "execution_count": 19,
      "outputs": []
    },
    {
      "cell_type": "code",
      "source": [
        "x_t=t.tensor(x)"
      ],
      "metadata": {
        "id": "EobEgHzivfG7"
      },
      "execution_count": 20,
      "outputs": []
    },
    {
      "cell_type": "code",
      "source": [
        "y_t=t.tensor(y)"
      ],
      "metadata": {
        "id": "2Q_XPfyWvpa8"
      },
      "execution_count": 21,
      "outputs": []
    },
    {
      "cell_type": "code",
      "source": [
        "x_t"
      ],
      "metadata": {
        "colab": {
          "base_uri": "https://localhost:8080/"
        },
        "id": "icFjtYfmvrhw",
        "outputId": "65d56862-9a7b-480e-f84d-39f22fc18777"
      },
      "execution_count": 22,
      "outputs": [
        {
          "output_type": "execute_result",
          "data": {
            "text/plain": [
              "tensor([[ 1.0683, -0.9701],\n",
              "        [-1.1402, -0.8388],\n",
              "        [-2.8954,  1.9769],\n",
              "        [-0.7206, -0.9606],\n",
              "        [-1.9629, -0.9923],\n",
              "        [-0.9382, -0.5430],\n",
              "        [ 1.7273, -1.1858],\n",
              "        [ 1.7774,  1.5116],\n",
              "        [ 1.8997,  0.8344],\n",
              "        [-0.5872, -1.9717]], dtype=torch.float64)"
            ]
          },
          "metadata": {},
          "execution_count": 22
        }
      ]
    },
    {
      "cell_type": "code",
      "source": [
        "y_t"
      ],
      "metadata": {
        "colab": {
          "base_uri": "https://localhost:8080/"
        },
        "id": "fHaiR-tYvspK",
        "outputId": "550c7493-ea84-44ce-cd46-a33c4580cf6a"
      },
      "execution_count": 23,
      "outputs": [
        {
          "output_type": "execute_result",
          "data": {
            "text/plain": [
              "tensor([1, 0, 0, 0, 0, 1, 1, 1, 1, 0])"
            ]
          },
          "metadata": {},
          "execution_count": 23
        }
      ]
    },
    {
      "cell_type": "code",
      "source": [
        "from torch.utils.data import Dataset, DataLoader\n"
      ],
      "metadata": {
        "id": "7iyS-qAhvuS1"
      },
      "execution_count": 30,
      "outputs": []
    },
    {
      "cell_type": "code",
      "source": [
        "class Custom_dataset(Dataset):\n",
        "  def __init__(self,features,label):\n",
        "    self.features=features\n",
        "    self.label=label\n",
        "  def __len__(self):\n",
        "    return self.features.shape[0]\n",
        "  def __getitem__(self, index):\n",
        "    return self.features[index],self.label[index]\n",
        "\n"
      ],
      "metadata": {
        "id": "1ZHoRgTnwKSD"
      },
      "execution_count": 61,
      "outputs": []
    },
    {
      "cell_type": "code",
      "source": [
        "dataset=Custom_dataset(x_t,y_t)"
      ],
      "metadata": {
        "id": "pGcrCb-2xQLA"
      },
      "execution_count": 62,
      "outputs": []
    },
    {
      "cell_type": "code",
      "source": [
        "len(dataset)"
      ],
      "metadata": {
        "colab": {
          "base_uri": "https://localhost:8080/"
        },
        "id": "_DqjlIz1ycDG",
        "outputId": "b84feec6-125b-46df-b6cc-860687d90582"
      },
      "execution_count": 63,
      "outputs": [
        {
          "output_type": "execute_result",
          "data": {
            "text/plain": [
              "10"
            ]
          },
          "metadata": {},
          "execution_count": 63
        }
      ]
    },
    {
      "cell_type": "code",
      "source": [
        "print(dataset.__init__(x_t,y_t))"
      ],
      "metadata": {
        "colab": {
          "base_uri": "https://localhost:8080/"
        },
        "id": "eqs9oCFwyemt",
        "outputId": "82dddeb3-97a2-4527-f71b-97f9495cb0b3"
      },
      "execution_count": 64,
      "outputs": [
        {
          "output_type": "stream",
          "name": "stdout",
          "text": [
            "None\n"
          ]
        }
      ]
    },
    {
      "cell_type": "code",
      "source": [
        "dataset[2]"
      ],
      "metadata": {
        "colab": {
          "base_uri": "https://localhost:8080/"
        },
        "id": "lQAY6ITmzu17",
        "outputId": "1707bc09-3063-4f58-de40-fb5f4a25a4a7"
      },
      "execution_count": 65,
      "outputs": [
        {
          "output_type": "execute_result",
          "data": {
            "text/plain": [
              "(tensor([-2.8954,  1.9769], dtype=torch.float64), tensor(0))"
            ]
          },
          "metadata": {},
          "execution_count": 65
        }
      ]
    },
    {
      "cell_type": "code",
      "source": [
        "dataloader=DataLoader(dataset,batch_size=2,shuffle=True)"
      ],
      "metadata": {
        "id": "1zpvVF2R0Rgz"
      },
      "execution_count": 66,
      "outputs": []
    },
    {
      "cell_type": "code",
      "source": [
        "for batch_features,batch_label in dataloader:\n",
        "  print(batch_features)\n",
        "  print(batch_label)\n",
        "  print(\"*\"*50)\n"
      ],
      "metadata": {
        "colab": {
          "base_uri": "https://localhost:8080/"
        },
        "id": "ImfH0g4XHUcF",
        "outputId": "b03c6b47-07cb-4e1a-dd04-b909afc58faf"
      },
      "execution_count": 67,
      "outputs": [
        {
          "output_type": "stream",
          "name": "stdout",
          "text": [
            "tensor([[ 1.8997,  0.8344],\n",
            "        [-0.7206, -0.9606]], dtype=torch.float64)\n",
            "tensor([1, 0])\n",
            "**************************************************\n",
            "tensor([[-1.9629, -0.9923],\n",
            "        [-1.1402, -0.8388]], dtype=torch.float64)\n",
            "tensor([0, 0])\n",
            "**************************************************\n",
            "tensor([[-0.9382, -0.5430],\n",
            "        [-2.8954,  1.9769]], dtype=torch.float64)\n",
            "tensor([1, 0])\n",
            "**************************************************\n",
            "tensor([[ 1.7273, -1.1858],\n",
            "        [ 1.0683, -0.9701]], dtype=torch.float64)\n",
            "tensor([1, 1])\n",
            "**************************************************\n",
            "tensor([[ 1.7774,  1.5116],\n",
            "        [-0.5872, -1.9717]], dtype=torch.float64)\n",
            "tensor([1, 0])\n",
            "**************************************************\n"
          ]
        }
      ]
    },
    {
      "cell_type": "code",
      "source": [],
      "metadata": {
        "id": "gXC_k1fPHgvC"
      },
      "execution_count": null,
      "outputs": []
    }
  ]
}